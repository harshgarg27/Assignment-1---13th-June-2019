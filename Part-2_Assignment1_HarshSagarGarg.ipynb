{
 "cells": [
  {
   "cell_type": "markdown",
   "metadata": {},
   "source": [
    "## Assignment 1- June 13,2019\n",
    "### Part-2\n",
    "#### BY: Harsh Sagar Garg\n",
    "\n"
   ]
  },
  {
   "cell_type": "code",
   "execution_count": null,
   "metadata": {},
   "outputs": [],
   "source": []
  },
  {
   "cell_type": "markdown",
   "metadata": {},
   "source": [
    "### Q4 Build a program to predict the correct word for wrongly typed word.\n",
    "#### For example whst => what, numbr =>number, good => good"
   ]
  },
  {
   "cell_type": "markdown",
   "metadata": {},
   "source": [
    "#### Approach-1: Using the simple Bag Of Words Approach"
   ]
  },
  {
   "cell_type": "code",
   "execution_count": 1,
   "metadata": {},
   "outputs": [],
   "source": [
    "import re\n",
    "import string\n",
    "from collections import Counter\n",
    "\n",
    "## Unique Words\n",
    "bagOfWords = re.findall('[a-z]+',open('assignment 1/big.txt').read().lower())\n",
    "\n",
    "##Frequeny of Words\n",
    "wordCount = Counter(bagOfWords)\n",
    "bagOfWords = set(bagOfWords)\n",
    "\n",
    "##Dictionary\n",
    "dictionary_words = {}\n",
    "\n",
    "## Words which can be formed by editing(delete) one character\n",
    "def edit_one(w):\n",
    "    pairs = set([(w[:i], w[i:]) for i in range(len(w)+1)])\n",
    "    \n",
    "    return set([ a+b[1:] for (a, b) in pairs if b] )\n",
    "\n",
    "## Mapping Incorrect to the Correct\n",
    "def mapping():\n",
    "    for w in bagOfWords:\n",
    "        set1 = edit_one(w)\n",
    "        set2    = set([e2 for e1 in set1 for e2 in edit_one(e1)])\n",
    "        total_set = set1 or set2\n",
    "        \n",
    "        for key in total_set:\n",
    "            dictionary_words.setdefault(key,[]).append(w)\n",
    "    return \n",
    "\n",
    "mapping()\n",
    "\n",
    "def correct(query):\n",
    "    values = []\n",
    "    \n",
    "    ## Checking in bagOfWords\n",
    "    if query in bagOfWords:\n",
    "         return query\n",
    "            \n",
    "    if query in dictionary_words.keys():\n",
    "            values.extend(dictionary_words[query])\n",
    "            \n",
    "    for w in edit_one(query):\n",
    "        if w in dictionary_words.keys():\n",
    "            values.extend(dictionary_words[w])\n",
    "           \n",
    "        if w in bagOfWords:\n",
    "            values.append(w)\n",
    "    \n",
    "    ## If there are multiple options, then choosing the most frequent option\n",
    "    if values:\n",
    "        values = list(set(values))\n",
    "        values.sort(key = wordCount.get, reverse = True)\n",
    "        print(\"The Correct Word is :\",values[0])\n",
    "        return max(set(values), key=wordCount.get)\n",
    "       \n",
    "    else: \n",
    "        return query\n"
   ]
  },
  {
   "cell_type": "markdown",
   "metadata": {},
   "source": [
    "#### Running the code for some Test Examples:"
   ]
  },
  {
   "cell_type": "code",
   "execution_count": 3,
   "metadata": {},
   "outputs": [
    {
     "name": "stdout",
     "output_type": "stream",
     "text": [
      "The Correct Word is : what\n"
     ]
    },
    {
     "data": {
      "text/plain": [
       "'what'"
      ]
     },
     "execution_count": 3,
     "metadata": {},
     "output_type": "execute_result"
    }
   ],
   "source": [
    "correct('whst')"
   ]
  },
  {
   "cell_type": "code",
   "execution_count": 5,
   "metadata": {},
   "outputs": [
    {
     "name": "stdout",
     "output_type": "stream",
     "text": [
      "The Correct Word is : number\n"
     ]
    },
    {
     "data": {
      "text/plain": [
       "'number'"
      ]
     },
     "execution_count": 5,
     "metadata": {},
     "output_type": "execute_result"
    }
   ],
   "source": [
    "correct('numbr')"
   ]
  },
  {
   "cell_type": "code",
   "execution_count": 6,
   "metadata": {},
   "outputs": [
    {
     "data": {
      "text/plain": [
       "'good'"
      ]
     },
     "execution_count": 6,
     "metadata": {},
     "output_type": "execute_result"
    }
   ],
   "source": [
    "correct('good')"
   ]
  },
  {
   "cell_type": "code",
   "execution_count": 7,
   "metadata": {},
   "outputs": [
    {
     "name": "stdout",
     "output_type": "stream",
     "text": [
      "The Correct Word is : the\n"
     ]
    },
    {
     "data": {
      "text/plain": [
       "'the'"
      ]
     },
     "execution_count": 7,
     "metadata": {},
     "output_type": "execute_result"
    }
   ],
   "source": [
    "correct('teh')"
   ]
  },
  {
   "cell_type": "code",
   "execution_count": null,
   "metadata": {},
   "outputs": [],
   "source": []
  },
  {
   "cell_type": "markdown",
   "metadata": {},
   "source": [
    "### APPROACH-2"
   ]
  },
  {
   "cell_type": "code",
   "execution_count": 9,
   "metadata": {},
   "outputs": [],
   "source": [
    "## importing regex and collections\n",
    "import re\n",
    "from collections import Counter\n",
    "\n",
    "def words(text): \n",
    "    return re.findall(r'\\w+', text.lower())\n",
    "\n",
    "read_words = Counter(words(open('assignment 1/big.txt').read()))\n",
    "\n",
    "# Finding Probability of the word\n",
    "def probability(word, N=sum(read_words.values())): \n",
    "    return read_words[word] / N\n",
    "\n",
    "# Finding the most probable spelling correction for word.\n",
    "def correction(word):                                 \n",
    "    return max(possibilities(word), key=probability)\n",
    "\n",
    "# This func will generate all possible spelling corrections for word.\n",
    "def possibilities(word):                              \n",
    "    return (known([word]) or known(first_level(word)) or known(second_level(word)) or [word])\n",
    "\n",
    "# This will give the subset of `words` that appear in the dictionary of read_words.\n",
    "def known(words):                                     \n",
    "    return set(w for w in words if w in read_words)\n",
    "\n",
    "## One edit away from word\n",
    "def first_level(word):                              \n",
    "    letters    = 'abcdefghijklmnopqrstuvwxyz'\n",
    "    splits     = [(word[:i], word[i:])    for i in range(len(word) + 1)]\n",
    "    deletes    = [L + R[1:]               for L, R in splits if R]\n",
    "    transposes = [L + R[1] + R[0] + R[2:] for L, R in splits if len(R)>1]\n",
    "    replaces   = [L + c + R[1:]           for L, R in splits if R for c in letters]\n",
    "    inserts    = [L + c + R               for L, R in splits for c in letters]\n",
    "    return set(deletes + transposes + replaces + inserts)\n",
    "\n",
    "### edits that are two edits away from 'word'.\n",
    "def second_level(word):                               \n",
    "    return (e2 for e1 in first_level(word) for e2 in first_level(e1))\n",
    "\n"
   ]
  },
  {
   "cell_type": "markdown",
   "metadata": {},
   "source": [
    "#### Testing Approach-2 "
   ]
  },
  {
   "cell_type": "code",
   "execution_count": 11,
   "metadata": {},
   "outputs": [
    {
     "data": {
      "text/plain": [
       "'what'"
      ]
     },
     "execution_count": 11,
     "metadata": {},
     "output_type": "execute_result"
    }
   ],
   "source": [
    "correction(\"whst\")"
   ]
  },
  {
   "cell_type": "code",
   "execution_count": 12,
   "metadata": {},
   "outputs": [
    {
     "data": {
      "text/plain": [
       "'number'"
      ]
     },
     "execution_count": 12,
     "metadata": {},
     "output_type": "execute_result"
    }
   ],
   "source": [
    "correction(\"numbr\")"
   ]
  },
  {
   "cell_type": "code",
   "execution_count": 13,
   "metadata": {},
   "outputs": [
    {
     "data": {
      "text/plain": [
       "'the'"
      ]
     },
     "execution_count": 13,
     "metadata": {},
     "output_type": "execute_result"
    }
   ],
   "source": [
    "correction(\"teh\")"
   ]
  },
  {
   "cell_type": "code",
   "execution_count": 14,
   "metadata": {},
   "outputs": [
    {
     "data": {
      "text/plain": [
       "'good'"
      ]
     },
     "execution_count": 14,
     "metadata": {},
     "output_type": "execute_result"
    }
   ],
   "source": [
    "correction(\"good\")"
   ]
  },
  {
   "cell_type": "code",
   "execution_count": null,
   "metadata": {},
   "outputs": [],
   "source": []
  }
 ],
 "metadata": {
  "kernelspec": {
   "display_name": "Python 3",
   "language": "python",
   "name": "python3"
  },
  "language_info": {
   "codemirror_mode": {
    "name": "ipython",
    "version": 3
   },
   "file_extension": ".py",
   "mimetype": "text/x-python",
   "name": "python",
   "nbconvert_exporter": "python",
   "pygments_lexer": "ipython3",
   "version": "3.7.1"
  }
 },
 "nbformat": 4,
 "nbformat_minor": 2
}
