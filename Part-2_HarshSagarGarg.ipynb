{
 "cells": [
  {
   "cell_type": "markdown",
   "metadata": {},
   "source": [
    "## Assignment 1- June 13,2019\n",
    "### Part-2\n",
    "#### BY: Harsh Sagar Garg\n",
    "\n",
    "### Q4 Build a program to predict the correct word for wrongly typed word. for example whst => what, numbr =>number, good => good\n"
   ]
  },
  {
   "cell_type": "code",
   "execution_count": 19,
   "metadata": {},
   "outputs": [],
   "source": [
    "## importing regex and collections\n",
    "import re\n",
    "from collections import Counter\n",
    "\n",
    "def words(text): \n",
    "    return re.findall(r'\\w+', text.lower())\n",
    "\n",
    "read_words = Counter(words(open('assignment 1/big.txt').read()))\n",
    "\n",
    "# Finding Probability of the word\n",
    "def probability(word, N=sum(read_words.values())): \n",
    "    return read_words[word] / N\n",
    "\n",
    "# Finding the most probable spelling correction for word.\n",
    "def correction(word):                                 \n",
    "    return max(possibilities(word), key=probability)\n",
    "\n",
    "# This func will generate all possible spelling corrections for word.\n",
    "def possibilities(word):                              \n",
    "    return (known([word]) or known(first_level(word)) or known(second_level(word)) or [word])\n",
    "\n",
    "# This will give the subset of `words` that appear in the dictionary of read_words.\n",
    "def known(words):                                     \n",
    "    return set(w for w in words if w in read_words)\n",
    "\n",
    "## One edit away from word\n",
    "def first_level(word):                              \n",
    "    letters    = 'abcdefghijklmnopqrstuvwxyz'\n",
    "    splits     = [(word[:i], word[i:])    for i in range(len(word) + 1)]\n",
    "    deletes    = [L + R[1:]               for L, R in splits if R]\n",
    "    transposes = [L + R[1] + R[0] + R[2:] for L, R in splits if len(R)>1]\n",
    "    replaces   = [L + c + R[1:]           for L, R in splits if R for c in letters]\n",
    "    inserts    = [L + c + R               for L, R in splits for c in letters]\n",
    "    return set(deletes + transposes + replaces + inserts)\n",
    "\n",
    "### edits that are two edits away from 'word'.\n",
    "def second_level(word):                               \n",
    "    return (e2 for e1 in first_level(word) for e2 in first_level(e1))\n",
    "\n"
   ]
  },
  {
   "cell_type": "code",
   "execution_count": 20,
   "metadata": {},
   "outputs": [],
   "source": [
    "## Below are some Tests"
   ]
  },
  {
   "cell_type": "code",
   "execution_count": 21,
   "metadata": {},
   "outputs": [
    {
     "data": {
      "text/plain": [
       "'number'"
      ]
     },
     "execution_count": 21,
     "metadata": {},
     "output_type": "execute_result"
    }
   ],
   "source": [
    "correction('numbr')"
   ]
  },
  {
   "cell_type": "code",
   "execution_count": 22,
   "metadata": {},
   "outputs": [
    {
     "data": {
      "text/plain": [
       "'what'"
      ]
     },
     "execution_count": 22,
     "metadata": {},
     "output_type": "execute_result"
    }
   ],
   "source": [
    "correction('whst')"
   ]
  },
  {
   "cell_type": "code",
   "execution_count": 23,
   "metadata": {},
   "outputs": [
    {
     "data": {
      "text/plain": [
       "'good'"
      ]
     },
     "execution_count": 23,
     "metadata": {},
     "output_type": "execute_result"
    }
   ],
   "source": [
    "correction('good')"
   ]
  },
  {
   "cell_type": "code",
   "execution_count": 24,
   "metadata": {},
   "outputs": [
    {
     "data": {
      "text/plain": [
       "'the'"
      ]
     },
     "execution_count": 24,
     "metadata": {},
     "output_type": "execute_result"
    }
   ],
   "source": [
    "correction(\"teh\")"
   ]
  },
  {
   "cell_type": "code",
   "execution_count": null,
   "metadata": {},
   "outputs": [],
   "source": []
  }
 ],
 "metadata": {
  "kernelspec": {
   "display_name": "Python 3",
   "language": "python",
   "name": "python3"
  },
  "language_info": {
   "codemirror_mode": {
    "name": "ipython",
    "version": 3
   },
   "file_extension": ".py",
   "mimetype": "text/x-python",
   "name": "python",
   "nbconvert_exporter": "python",
   "pygments_lexer": "ipython3",
   "version": "3.7.1"
  }
 },
 "nbformat": 4,
 "nbformat_minor": 2
}
